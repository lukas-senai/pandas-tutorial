{
  "cells": [
    {
      "cell_type": "markdown",
      "metadata": {
        "id": "view-in-github",
        "colab_type": "text"
      },
      "source": [
        "<a href=\"https://colab.research.google.com/github/lukas-senai/pandas-tutorial/blob/main/notebooks/funcionadios.ipynb\" target=\"_parent\"><img src=\"https://colab.research.google.com/assets/colab-badge.svg\" alt=\"Open In Colab\"/></a>"
      ]
    },
    {
      "cell_type": "markdown",
      "metadata": {
        "id": "Fcr-WeSzAROV"
      },
      "source": [
        "# 📝 Funcionários\n",
        "\n",
        "Neste exercício, você vai praticar Pandas seguindo o modelo do tutorial dos alunos. Use este notebook para escrever seu código e testar as respostas."
      ],
      "id": "Fcr-WeSzAROV"
    },
    {
      "cell_type": "markdown",
      "metadata": {
        "id": "b3xcKOLdAROW"
      },
      "source": [
        "## Arquivo base\n",
        "O CSV `funcionarios.csv` contém os seguintes dados:\n",
        "\n",
        "| Nome | Idade | Salario |\n",
        "|------|-------|---------|\n",
        "| Paula | 25 | 3200 |\n",
        "| Rafael | 30 | 4500 |\n",
        "| Mariana | 28 | 3800 |\n",
        "| Bruno | 35 | 5000 |\n",
        "| Letícia | 22 | 2800 |"
      ],
      "id": "b3xcKOLdAROW"
    },
    {
      "cell_type": "code",
      "metadata": {
        "id": "l77HTqgaAROX"
      },
      "source": [
        "# 1️⃣ Importando Pandas e lendo o CSV\n",
        "import pandas as pd\n",
        "\n",
        "# URL raw do CSV no GitHub\n",
        "url = \"https://raw.githubusercontent.com/lukas-senai/pandas-tutorial/main/assets/funcionarios.csv\"\n",
        "\n",
        "# Ler o CSV\n",
        "df = pd.read_csv(url)\n",
        "\n",
        "# Mostrar o DataFrame"
      ],
      "execution_count": null,
      "outputs": [],
      "id": "l77HTqgaAROX"
    },
    {
      "cell_type": "markdown",
      "metadata": {
        "id": "zSUaJ9yoAROX"
      },
      "source": [
        "## 2️⃣ Seleção de colunas\n",
        "- Mostrar apenas a coluna `Nome`\n",
        "- Mostrar as colunas `Nome` e `Salario`"
      ],
      "id": "zSUaJ9yoAROX"
    },
    {
      "cell_type": "code",
      "metadata": {
        "id": "zcE3B30tAROY"
      },
      "source": [
        "# Escreva seu código aqui"
      ],
      "execution_count": null,
      "outputs": [],
      "id": "zcE3B30tAROY"
    },
    {
      "cell_type": "markdown",
      "metadata": {
        "id": "HRRh3bj7AROY"
      },
      "source": [
        "## 3️⃣ Filtrando informações\n",
        "- Funcionários com salário >= 4000\n",
        "- Funcionários com idade < 30"
      ],
      "id": "HRRh3bj7AROY"
    },
    {
      "cell_type": "code",
      "metadata": {
        "id": "83me-H0gAROY"
      },
      "source": [
        "# Escreva seu código aqui"
      ],
      "execution_count": null,
      "outputs": [],
      "id": "83me-H0gAROY"
    },
    {
      "cell_type": "markdown",
      "metadata": {
        "id": "emvtkjJwAROY"
      },
      "source": [
        "## 4️⃣ Estatísticas básicas\n",
        "- Calcular a média salarial\n",
        "- Descobrir o maior e menor salário\n",
        "- Contar quantos funcionários têm idade >= 30"
      ],
      "id": "emvtkjJwAROY"
    },
    {
      "cell_type": "code",
      "metadata": {
        "id": "C7lLHUxWAROY"
      },
      "source": [
        "# Escreva seu código aqui"
      ],
      "execution_count": null,
      "outputs": [],
      "id": "C7lLHUxWAROY"
    },
    {
      "cell_type": "markdown",
      "metadata": {
        "id": "t7zGkz4hAROZ"
      },
      "source": [
        "## 5️⃣ Criando nova coluna: Faixa salarial\n",
        "- Adicione uma coluna `Faixa` com valor `Alta` se salário >= 4000 e `Baixa` caso contrário"
      ],
      "id": "t7zGkz4hAROZ"
    },
    {
      "cell_type": "code",
      "metadata": {
        "id": "auRuE6iGAROZ"
      },
      "source": [
        "# Escreva seu código aqui"
      ],
      "execution_count": null,
      "outputs": [],
      "id": "auRuE6iGAROZ"
    },
    {
      "cell_type": "markdown",
      "metadata": {
        "id": "uPHwoAElAROZ"
      },
      "source": [
        "## 6️⃣ Ordenando dados\n",
        "- Ordenar por salário do maior para o menor\n",
        "- Ordenar por nome em ordem alfabética"
      ],
      "id": "uPHwoAElAROZ"
    },
    {
      "cell_type": "code",
      "metadata": {
        "id": "s6WC2I9uAROZ"
      },
      "source": [
        "# Escreva seu código aqui"
      ],
      "execution_count": null,
      "outputs": [],
      "id": "s6WC2I9uAROZ"
    },
    {
      "cell_type": "markdown",
      "metadata": {
        "id": "4t_NdANdAROZ"
      },
      "source": [
        "## 7️⃣ Exportando resultados\n",
        "- Salve o DataFrame em um arquivo chamado `relatorio_funcionarios.csv`"
      ],
      "id": "4t_NdANdAROZ"
    },
    {
      "cell_type": "code",
      "metadata": {
        "id": "WYWJZu8tAROZ"
      },
      "source": [
        "# Escreva seu código aqui"
      ],
      "execution_count": null,
      "outputs": [],
      "id": "WYWJZu8tAROZ"
    },
    {
      "cell_type": "markdown",
      "metadata": {
        "id": "TdA-M40MAROZ"
      },
      "source": [
        "## 8️⃣ Média por faixa salarial\n",
        "- Calcule a média salarial para os funcionários da faixa `Alta`\n",
        "- Calcule a média salarial para os funcionários da faixa `Baixa`"
      ],
      "id": "TdA-M40MAROZ"
    },
    {
      "cell_type": "code",
      "metadata": {
        "id": "ZNhFAUXdAROZ"
      },
      "source": [
        "# Escreva seu código aqui"
      ],
      "execution_count": null,
      "outputs": [],
      "id": "ZNhFAUXdAROZ"
    }
  ],
  "metadata": {
    "kernelspec": {
      "display_name": "Python 3",
      "language": "python",
      "name": "python3"
    },
    "language_info": {
      "name": "python",
      "version": "3.11"
    },
    "colab": {
      "provenance": [],
      "include_colab_link": true
    }
  },
  "nbformat": 4,
  "nbformat_minor": 5
}