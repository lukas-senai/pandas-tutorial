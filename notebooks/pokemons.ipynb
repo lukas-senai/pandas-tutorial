{
  "cells": [
    {
      "cell_type": "markdown",
      "metadata": {
        "id": "view-in-github",
        "colab_type": "text"
      },
      "source": [
        "<a href=\"https://colab.research.google.com/github/lukas-senai/pandas-tutorial/blob/main/notebooks/pokemons.ipynb\" target=\"_parent\"><img src=\"https://colab.research.google.com/assets/colab-badge.svg\" alt=\"Open In Colab\"/></a>"
      ]
    },
    {
      "cell_type": "markdown",
      "metadata": {
        "id": "YKDmgMtUDrw0"
      },
      "source": [
        "# 📝 Pokémon\n",
        "\n",
        "Neste notebook você vai praticar Pandas usando dados de Pokémon.\n",
        "Use o exemplo do tutorial anterior para ajudá-lo a preencher os códigos."
      ],
      "id": "YKDmgMtUDrw0"
    },
    {
      "cell_type": "markdown",
      "metadata": {
        "id": "0NMf2QgWDrw2"
      },
      "source": [
        "## Arquivo base\n",
        "O CSV `pokemon.csv` contém colunas como `Name`, `Type 1`, `Type 2`, `Total`, `HP`, `Attack`, `Defense`, `Sp. Atk`, `Sp. Def`, `Speed`, `Generation`, `Legendary`."
      ],
      "id": "0NMf2QgWDrw2"
    },
    {
      "cell_type": "code",
      "metadata": {
        "id": "UiQ7INH8Drw2"
      },
      "source": [
        "import pandas as pd\n",
        "url = \"https://raw.githubusercontent.com/lukas-senai/pandas-tutorial/main/assets/pokemons.csv\"\n",
        "df = pd.read_csv(url)"
      ],
      "execution_count": null,
      "outputs": [],
      "id": "UiQ7INH8Drw2"
    },
    {
      "cell_type": "markdown",
      "metadata": {
        "id": "BlJZdF1qDrw3"
      },
      "source": [
        "## 2️⃣ Seleção de colunas\n",
        "- Mostrar apenas a coluna `Name`\n",
        "- Mostrar as colunas `Name` e `Type 1`"
      ],
      "id": "BlJZdF1qDrw3"
    },
    {
      "cell_type": "code",
      "metadata": {
        "id": "FKK9SRBlDrw4"
      },
      "source": [
        "# Escreva seu código aqui"
      ],
      "execution_count": null,
      "outputs": [],
      "id": "FKK9SRBlDrw4"
    },
    {
      "cell_type": "markdown",
      "metadata": {
        "id": "SB0KYp-aDrw4"
      },
      "source": [
        "## 3️⃣ Filtrando dados\n",
        "- Mostrar todos os Pokémon do tipo \"Water\"\n",
        "- Mostrar todos os Pokémon da Geração 1\n",
        "- Mostrar todos os Pokémon com HP maior que 70\n",
        "- Mostrar Pokémon com Attack >= 100\n",
        "- Filtrar apenas Pokémon Legendary (Legendary == True)"
      ],
      "id": "SB0KYp-aDrw4"
    },
    {
      "cell_type": "code",
      "metadata": {
        "id": "-P6FOBeJDrw4"
      },
      "source": [
        "# Escreva seu código aqui"
      ],
      "execution_count": null,
      "outputs": [],
      "id": "-P6FOBeJDrw4"
    },
    {
      "cell_type": "markdown",
      "metadata": {
        "id": "2d8UPzhsDrw4"
      },
      "source": [
        "## 4️⃣ Estatísticas simples\n",
        "- Calcular a média da coluna Total\n",
        "- Descobrir o maior Total\n",
        "- Descobrir o menor Total\n",
        "- Calcular a média de Attack dos Pokémons da Geração 1\n",
        "- Calcular a média de Attack dos Pokémons da Geração 6\n",
        "- Calcular a médie de HP dos Pokémons do tipo Fire\n",
        "- Calcular a médie de HP dos Pokémons do tipo Water"
      ],
      "id": "2d8UPzhsDrw4"
    },
    {
      "cell_type": "code",
      "metadata": {
        "id": "Iy-8pSO-Drw5"
      },
      "source": [
        "# Escreva seu código aqui"
      ],
      "execution_count": null,
      "outputs": [],
      "id": "Iy-8pSO-Drw5"
    },
    {
      "cell_type": "markdown",
      "source": [
        "## 5️⃣ Ordenação\n",
        "- Ordenar os Pokémon por Total do maior para o menor.\n",
        "- Ordenar os Pokémon por Speed do menor para o maior."
      ],
      "metadata": {
        "id": "PaHLMbGmFNOH"
      },
      "id": "PaHLMbGmFNOH"
    },
    {
      "cell_type": "code",
      "source": [
        "# Escreva seu código aqui"
      ],
      "metadata": {
        "id": "h7rSgBZjFVX4"
      },
      "id": "h7rSgBZjFVX4",
      "execution_count": null,
      "outputs": []
    },
    {
      "cell_type": "markdown",
      "metadata": {
        "id": "2YEaeB5ZDrw5"
      },
      "source": [
        "## 5️⃣ Exploração rápida\n",
        "- Contar quantos Pokémon são Legendary\n",
        "- Mostrar os 5 primeiros Pokémon do CSV"
      ],
      "id": "2YEaeB5ZDrw5"
    },
    {
      "cell_type": "code",
      "metadata": {
        "id": "XPFc2t2vDrw5"
      },
      "source": [
        "# Escreva seu código aqui"
      ],
      "execution_count": null,
      "outputs": [],
      "id": "XPFc2t2vDrw5"
    },
    {
      "cell_type": "markdown",
      "metadata": {
        "id": "PxDQOLpQDrw6"
      },
      "source": [
        "## 🔹 Desafios (opcional)\n",
        "1. Mostrar o Pokémon mais rápido (`Speed`)\n",
        "2. Mostrar o Pokémon do tipo Fire com maior `Attack`\n",
        "3. Mostrar o Pokémon do tipo Rock com maior `HP`\n",
        "4. Listar os Pokémon Legendary da primeira geração\n",
        "5. Escreva qual é o seu Pokémon favorito"
      ],
      "id": "PxDQOLpQDrw6"
    },
    {
      "cell_type": "code",
      "metadata": {
        "id": "E1m8zLg2Drw6"
      },
      "source": [
        "# Desafios opcionais - escreva seu código aqui"
      ],
      "execution_count": null,
      "outputs": [],
      "id": "E1m8zLg2Drw6"
    }
  ],
  "metadata": {
    "kernelspec": {
      "display_name": "Python 3",
      "language": "python",
      "name": "python3"
    },
    "language_info": {
      "name": "python",
      "version": "3.11"
    },
    "colab": {
      "provenance": [],
      "include_colab_link": true
    }
  },
  "nbformat": 4,
  "nbformat_minor": 5
}